{
 "cells": [
  {
   "cell_type": "code",
   "execution_count": null,
   "id": "cbe94282",
   "metadata": {},
   "outputs": [],
   "source": [
    "import numpy as np\n",
    "import pandas as pd\n",
    "import matplotlib.pyplot as plt\n",
    "import matplotlip as mlp\n"
   ]
  },
  {
   "cell_type": "code",
   "execution_count": null,
   "id": "50ddb64d",
   "metadata": {},
   "outputs": [],
   "source": [
    "a=np.arange(40,50)\n",
    "b=np.arange(50,60)\n",
    "plt.plot(a,b)\n",
    "plt.xlabel('x axis')\n",
    "plt.ylabel('y axis')\n",
    "plt.title('line graph')"
   ]
  }
 ],
 "metadata": {
  "kernelspec": {
   "display_name": "Python 3",
   "language": "python",
   "name": "python3"
  },
  "language_info": {
   "codemirror_mode": {
    "name": "ipython",
    "version": 3
   },
   "file_extension": ".py",
   "mimetype": "text/x-python",
   "name": "python",
   "nbconvert_exporter": "python",
   "pygments_lexer": "ipython3",
   "version": "3.9.1"
  }
 },
 "nbformat": 4,
 "nbformat_minor": 5
}
